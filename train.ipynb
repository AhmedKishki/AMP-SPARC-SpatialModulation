{
 "cells": [
  {
   "cell_type": "code",
   "execution_count": 1,
   "metadata": {},
   "outputs": [],
   "source": [
    "from config import Config\n",
    "from model import train"
   ]
  },
  {
   "cell_type": "code",
   "execution_count": 2,
   "metadata": {},
   "outputs": [],
   "source": [
    "config = Config(2, 50, 5, 10, 20, 5, 20, 20, 2)\n",
    "config.N_epochs = 1"
   ]
  },
  {
   "cell_type": "code",
   "execution_count": 3,
   "metadata": {},
   "outputs": [
    {
     "name": "stderr",
     "output_type": "stream",
     "text": [
      "c:\\Users\\kishki\\Anaconda3\\envs\\AI\\Lib\\site-packages\\torch\\nn\\modules\\loss.py:535: UserWarning: Using a target size (torch.Size([2, 1000, 1])) that is different to the input size (torch.Size([2, 1000, 200])). This will likely lead to incorrect results due to broadcasting. Please ensure they have the same size.\n",
      "  return F.mse_loss(input, target, reduction=self.reduction)\n"
     ]
    },
    {
     "name": "stdout",
     "output_type": "stream",
     "text": [
      "epoch: 0, noise_var:1.5848931924611136, training loss: 0.1000174954533577\n",
      "epoch: 0, noise_var:1.0, training loss: nan\n",
      "epoch: 0, noise_var:2.51188643150958, training loss: nan\n",
      "epoch: 0, noise_var:1.9952623149688795, training loss: nan\n",
      "epoch: 0, noise_var:1.2589254117941673, training loss: nan\n",
      "epoch: 0, noise_var:3.1622776601683795, training loss: nan\n",
      "epoch: 0, noise_var:3.9810717055349722, training loss: nan\n",
      "epoch: 0, noise_var:5.011872336272722, training loss: nan\n",
      "epoch: 0, noise_var:6.309573444801933, training loss: nan\n",
      "epoch: 0, noise_var:7.943282347242816, training loss: nan\n",
      "epoch: 0, noise_var:10.0, training loss: nan\n",
      "epoch: 0, noise_var:12.589254117941675, training loss: nan\n",
      "epoch: 0, noise_var:15.848931924611133, training loss: nan\n",
      "epoch: 0, noise_var:19.952623149688797, training loss: nan\n",
      "epoch: 0, noise_var:25.118864315095795, training loss: nan\n",
      "epoch: 0, noise_var:31.622776601683793, training loss: nan\n",
      "epoch: 0, noise_var:39.810717055349734, training loss: nan\n",
      "epoch: 0, noise_var:50.11872336272722, training loss: nan\n",
      "epoch: 0, noise_var:63.09573444801933, training loss: nan\n",
      "epoch: 0, noise_var:79.43282347242814, training loss: nan\n"
     ]
    },
    {
     "ename": "RuntimeError",
     "evalue": "Parent directory /Checkpoints does not exist.",
     "output_type": "error",
     "traceback": [
      "\u001b[1;31m---------------------------------------------------------------------------\u001b[0m",
      "\u001b[1;31mRuntimeError\u001b[0m                              Traceback (most recent call last)",
      "\u001b[1;32mc:\\Users\\kishki\\Desktop\\Prethesis\\prethesis\\train.ipynb Cell 3\u001b[0m line \u001b[0;36m1\n\u001b[1;32m----> <a href='vscode-notebook-cell:/c%3A/Users/kishki/Desktop/Prethesis/prethesis/train.ipynb#W2sZmlsZQ%3D%3D?line=0'>1</a>\u001b[0m train(config)\n",
      "File \u001b[1;32mc:\\Users\\kishki\\Desktop\\Prethesis\\prethesis\\model.py:40\u001b[0m, in \u001b[0;36mtrain\u001b[1;34m(config)\u001b[0m\n\u001b[0;32m     38\u001b[0m     \u001b[39mif\u001b[39;00m epoch \u001b[39m%\u001b[39m config\u001b[39m.\u001b[39msave_freq:\n\u001b[0;32m     39\u001b[0m         torch\u001b[39m.\u001b[39msave(model\u001b[39m.\u001b[39mstate_dict(), \u001b[39mf\u001b[39m\u001b[39m\"\u001b[39m\u001b[39m/Checkpoints/checkpoint\u001b[39m\u001b[39m{\u001b[39;00mepoch\u001b[39m}\u001b[39;00m\u001b[39m.pt\u001b[39m\u001b[39m\"\u001b[39m)\n\u001b[1;32m---> 40\u001b[0m torch\u001b[39m.\u001b[39msave(model\u001b[39m.\u001b[39mstate_dict(), \u001b[39mf\u001b[39m\u001b[39m\"\u001b[39m\u001b[39m/Checkpoints/final.pt\u001b[39m\u001b[39m\"\u001b[39m)\n\u001b[0;32m     41\u001b[0m \u001b[39mreturn\u001b[39;00m model\n",
      "File \u001b[1;32mc:\\Users\\kishki\\Anaconda3\\envs\\AI\\Lib\\site-packages\\torch\\serialization.py:618\u001b[0m, in \u001b[0;36msave\u001b[1;34m(obj, f, pickle_module, pickle_protocol, _use_new_zipfile_serialization, _disable_byteorder_record)\u001b[0m\n\u001b[0;32m    615\u001b[0m _check_save_filelike(f)\n\u001b[0;32m    617\u001b[0m \u001b[39mif\u001b[39;00m _use_new_zipfile_serialization:\n\u001b[1;32m--> 618\u001b[0m     \u001b[39mwith\u001b[39;00m _open_zipfile_writer(f) \u001b[39mas\u001b[39;00m opened_zipfile:\n\u001b[0;32m    619\u001b[0m         _save(obj, opened_zipfile, pickle_module, pickle_protocol, _disable_byteorder_record)\n\u001b[0;32m    620\u001b[0m         \u001b[39mreturn\u001b[39;00m\n",
      "File \u001b[1;32mc:\\Users\\kishki\\Anaconda3\\envs\\AI\\Lib\\site-packages\\torch\\serialization.py:492\u001b[0m, in \u001b[0;36m_open_zipfile_writer\u001b[1;34m(name_or_buffer)\u001b[0m\n\u001b[0;32m    490\u001b[0m \u001b[39melse\u001b[39;00m:\n\u001b[0;32m    491\u001b[0m     container \u001b[39m=\u001b[39m _open_zipfile_writer_buffer\n\u001b[1;32m--> 492\u001b[0m \u001b[39mreturn\u001b[39;00m container(name_or_buffer)\n",
      "File \u001b[1;32mc:\\Users\\kishki\\Anaconda3\\envs\\AI\\Lib\\site-packages\\torch\\serialization.py:463\u001b[0m, in \u001b[0;36m_open_zipfile_writer_file.__init__\u001b[1;34m(self, name)\u001b[0m\n\u001b[0;32m    461\u001b[0m     \u001b[39msuper\u001b[39m()\u001b[39m.\u001b[39m\u001b[39m__init__\u001b[39m(torch\u001b[39m.\u001b[39m_C\u001b[39m.\u001b[39mPyTorchFileWriter(\u001b[39mself\u001b[39m\u001b[39m.\u001b[39mfile_stream))\n\u001b[0;32m    462\u001b[0m \u001b[39melse\u001b[39;00m:\n\u001b[1;32m--> 463\u001b[0m     \u001b[39msuper\u001b[39m()\u001b[39m.\u001b[39m\u001b[39m__init__\u001b[39m(torch\u001b[39m.\u001b[39m_C\u001b[39m.\u001b[39mPyTorchFileWriter(\u001b[39mself\u001b[39m\u001b[39m.\u001b[39mname))\n",
      "\u001b[1;31mRuntimeError\u001b[0m: Parent directory /Checkpoints does not exist."
     ]
    }
   ],
   "source": [
    "train(config)"
   ]
  },
  {
   "cell_type": "code",
   "execution_count": null,
   "metadata": {},
   "outputs": [],
   "source": []
  }
 ],
 "metadata": {
  "kernelspec": {
   "display_name": "AI",
   "language": "python",
   "name": "python3"
  },
  "language_info": {
   "codemirror_mode": {
    "name": "ipython",
    "version": 3
   },
   "file_extension": ".py",
   "mimetype": "text/x-python",
   "name": "python",
   "nbconvert_exporter": "python",
   "pygments_lexer": "ipython3",
   "version": "3.11.5"
  }
 },
 "nbformat": 4,
 "nbformat_minor": 2
}
