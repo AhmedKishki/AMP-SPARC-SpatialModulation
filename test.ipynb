{
 "cells": [
  {
   "cell_type": "code",
   "execution_count": 2,
   "metadata": {},
   "outputs": [],
   "source": [
    "import torch\n",
    "import numpy as np"
   ]
  },
  {
   "cell_type": "code",
   "execution_count": 12,
   "metadata": {},
   "outputs": [],
   "source": [
    "Nt = 10\n",
    "Na = 2\n",
    "Nr = 3\n",
    "Lin = 8\n",
    "Lh = 3"
   ]
  },
  {
   "cell_type": "code",
   "execution_count": 13,
   "metadata": {},
   "outputs": [
    {
     "data": {
      "text/plain": [
       "array([0.66524096, 0.24472847, 0.09003057])"
      ]
     },
     "execution_count": 13,
     "metadata": {},
     "output_type": "execute_result"
    }
   ],
   "source": [
    "pdp = np.exp(-np.arange(3))\n",
    "pdp = pdp/np.sum(pdp)\n",
    "pdp"
   ]
  },
  {
   "cell_type": "code",
   "execution_count": 14,
   "metadata": {},
   "outputs": [
    {
     "data": {
      "text/plain": [
       "array([[3.44686914, 0.        , 0.        , 0.        , 0.        ],\n",
       "       [2.48410116, 3.44686914, 0.        , 0.        , 0.        ],\n",
       "       [1.90015285, 2.48410116, 3.44686914, 0.        , 0.        ],\n",
       "       [0.        , 1.90015285, 2.48410116, 3.44686914, 0.        ],\n",
       "       [0.        , 0.        , 1.90015285, 2.48410116, 3.44686914]])"
      ]
     },
     "execution_count": 14,
     "metadata": {},
     "output_type": "execute_result"
    }
   ],
   "source": [
    "for l in range(Lh):\n",
    "    try:\n",
    "        I = I + np.eye(5, 5, -l) * np.sqrt(pdp[l])\n",
    "    except:\n",
    "        I = np.eye(5, 5, -l) * np.sqrt(pdp[l])\n",
    "I"
   ]
  },
  {
   "cell_type": "code",
   "execution_count": 15,
   "metadata": {},
   "outputs": [],
   "source": [
    "hr = np.random.normal(size=(Nr, Nt, Lh), scale = 1/np.sqrt(2*Nr))\n",
    "hi = np.random.normal(size=(Nr, Nt, Lh), scale = 1/np.sqrt(2*Nr))"
   ]
  },
  {
   "cell_type": "code",
   "execution_count": null,
   "metadata": {},
   "outputs": [],
   "source": []
  }
 ],
 "metadata": {
  "kernelspec": {
   "display_name": "AI",
   "language": "python",
   "name": "python3"
  },
  "language_info": {
   "codemirror_mode": {
    "name": "ipython",
    "version": 3
   },
   "file_extension": ".py",
   "mimetype": "text/x-python",
   "name": "python",
   "nbconvert_exporter": "python",
   "pygments_lexer": "ipython3",
   "version": "3.11.5"
  }
 },
 "nbformat": 4,
 "nbformat_minor": 2
}
